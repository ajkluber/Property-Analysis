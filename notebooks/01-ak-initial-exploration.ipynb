{
 "cells": [
  {
   "cell_type": "code",
   "execution_count": 2,
   "metadata": {},
   "outputs": [],
   "source": [
    "import sys\n",
    "import pathlib\n",
    "\n",
    "import pandas as pd\n",
    "#import panel as pn"
   ]
  },
  {
   "cell_type": "code",
   "execution_count": 3,
   "metadata": {},
   "outputs": [],
   "source": [
    "sys.path.append(str(pathlib.Path.cwd().parent))"
   ]
  },
  {
   "cell_type": "code",
   "execution_count": 4,
   "metadata": {},
   "outputs": [],
   "source": [
    "import src.load_data"
   ]
  },
  {
   "cell_type": "code",
   "execution_count": 5,
   "metadata": {},
   "outputs": [],
   "source": [
    "df = src.load_data.load_parcel_file()"
   ]
  },
  {
   "cell_type": "code",
   "execution_count": 6,
   "metadata": {},
   "outputs": [
    {
     "output_type": "execute_result",
     "data": {
      "text/plain": "            ParcelNum  LocalParcelNum  TownshipNum  LocalTaxDistrictNum  \\\n0  180724355009000006       156456805            3                    6   \n1  180724355010000006       156456806            3                    6   \n2  180729121018000007       156456807            3                    7   \n\n   StateTaxDistrictNum SectionPlat      RoutingNum                PropAddress  \\\n0                    6      242110  07-24-E- -033.      6500 N  WILLIAMSON RD   \n1                    6         NaN  07-24-E- -034.           3304 E  CR 400 N   \n2                    7           -  07-29-A- -120.  2905     W  CLAYBRIDGE LN   \n\n  PropCity PropZIP  ...  AppraisalDate ReasonCodeChange  PriorValueLand  \\\n0   MUNCIE   47303  ...     2018-04-16               17           15700   \n1   MUNCIE   47303  ...     2018-04-16               17           14200   \n2   MUNCIE   47304  ...     2018-04-16               17           42700   \n\n   PriorImprove  AdjustmentFactor  \\\n0         68600               1.0   \n1         56900               1.0   \n2        147400               1.0   \n\n                                    LegalDescription Anonymous  \\\n0  CHAPEL ORCHARD SEC A 0.0000Acres STR: 242110 I...       NaN   \n1  CHAPEL ORCHARD SEC A 0.0000Acres STR: 242110 I...       NaN   \n2  CARRINGTON WOODS SEC C LOT 206 0.0000Acres STR...       NaN   \n\n  CurrentValueLand CurrentValueImprove CurrentValueTotal  \n0              NaN                 NaN               NaN  \n1              NaN                 NaN               NaN  \n2              NaN                 NaN               NaN  \n\n[3 rows x 68 columns]",
      "text/html": "<div>\n<style scoped>\n    .dataframe tbody tr th:only-of-type {\n        vertical-align: middle;\n    }\n\n    .dataframe tbody tr th {\n        vertical-align: top;\n    }\n\n    .dataframe thead th {\n        text-align: right;\n    }\n</style>\n<table border=\"1\" class=\"dataframe\">\n  <thead>\n    <tr style=\"text-align: right;\">\n      <th></th>\n      <th>ParcelNum</th>\n      <th>LocalParcelNum</th>\n      <th>TownshipNum</th>\n      <th>LocalTaxDistrictNum</th>\n      <th>StateTaxDistrictNum</th>\n      <th>SectionPlat</th>\n      <th>RoutingNum</th>\n      <th>PropAddress</th>\n      <th>PropCity</th>\n      <th>PropZIP</th>\n      <th>...</th>\n      <th>AppraisalDate</th>\n      <th>ReasonCodeChange</th>\n      <th>PriorValueLand</th>\n      <th>PriorImprove</th>\n      <th>AdjustmentFactor</th>\n      <th>LegalDescription</th>\n      <th>Anonymous</th>\n      <th>CurrentValueLand</th>\n      <th>CurrentValueImprove</th>\n      <th>CurrentValueTotal</th>\n    </tr>\n  </thead>\n  <tbody>\n    <tr>\n      <th>0</th>\n      <td>180724355009000006</td>\n      <td>156456805</td>\n      <td>3</td>\n      <td>6</td>\n      <td>6</td>\n      <td>242110</td>\n      <td>07-24-E- -033.</td>\n      <td>6500 N  WILLIAMSON RD</td>\n      <td>MUNCIE</td>\n      <td>47303</td>\n      <td>...</td>\n      <td>2018-04-16</td>\n      <td>17</td>\n      <td>15700</td>\n      <td>68600</td>\n      <td>1.0</td>\n      <td>CHAPEL ORCHARD SEC A 0.0000Acres STR: 242110 I...</td>\n      <td>NaN</td>\n      <td>NaN</td>\n      <td>NaN</td>\n      <td>NaN</td>\n    </tr>\n    <tr>\n      <th>1</th>\n      <td>180724355010000006</td>\n      <td>156456806</td>\n      <td>3</td>\n      <td>6</td>\n      <td>6</td>\n      <td>NaN</td>\n      <td>07-24-E- -034.</td>\n      <td>3304 E  CR 400 N</td>\n      <td>MUNCIE</td>\n      <td>47303</td>\n      <td>...</td>\n      <td>2018-04-16</td>\n      <td>17</td>\n      <td>14200</td>\n      <td>56900</td>\n      <td>1.0</td>\n      <td>CHAPEL ORCHARD SEC A 0.0000Acres STR: 242110 I...</td>\n      <td>NaN</td>\n      <td>NaN</td>\n      <td>NaN</td>\n      <td>NaN</td>\n    </tr>\n    <tr>\n      <th>2</th>\n      <td>180729121018000007</td>\n      <td>156456807</td>\n      <td>3</td>\n      <td>7</td>\n      <td>7</td>\n      <td>-</td>\n      <td>07-29-A- -120.</td>\n      <td>2905     W  CLAYBRIDGE LN</td>\n      <td>MUNCIE</td>\n      <td>47304</td>\n      <td>...</td>\n      <td>2018-04-16</td>\n      <td>17</td>\n      <td>42700</td>\n      <td>147400</td>\n      <td>1.0</td>\n      <td>CARRINGTON WOODS SEC C LOT 206 0.0000Acres STR...</td>\n      <td>NaN</td>\n      <td>NaN</td>\n      <td>NaN</td>\n      <td>NaN</td>\n    </tr>\n  </tbody>\n</table>\n<p>3 rows × 68 columns</p>\n</div>"
     },
     "metadata": {},
     "execution_count": 6
    }
   ],
   "source": [
    "df.head(3)"
   ]
  },
  {
   "cell_type": "code",
   "execution_count": 9,
   "metadata": {},
   "outputs": [
    {
     "output_type": "execute_result",
     "data": {
      "text/plain": "59304"
     },
     "metadata": {},
     "execution_count": 9
    }
   ],
   "source": [
    "df.Anonymous.isna().sum()"
   ]
  },
  {
   "cell_type": "code",
   "execution_count": 11,
   "metadata": {},
   "outputs": [
    {
     "output_type": "execute_result",
     "data": {
      "text/plain": "'2018-04-16'"
     },
     "metadata": {},
     "execution_count": 11
    }
   ],
   "source": [
    "df.AppraisalDate.iloc[0]"
   ]
  },
  {
   "cell_type": "code",
   "execution_count": 17,
   "metadata": {},
   "outputs": [],
   "source": [
    "header_widths = [10,2,20,5,40,18,10,4,4,4,60,60,50,18,48,5,5,100]"
   ]
  },
  {
   "cell_type": "code",
   "execution_count": 8,
   "metadata": {},
   "outputs": [],
   "source": [
    "pers_property_widths = [25, 25, 4, 3, 3, 8, 25, 60, \n",
    "          30, 10, 3, 12, 5, 5, 5, 80,\n",
    "          60, 30, 30, 10, 3, 10] \\\n",
    "        +  13*[1] + [3,5,1] + 20*[12] \\\n",
    "        + [10, 2, 12,12,5,500,1,12,12,12]"
   ]
  },
  {
   "cell_type": "code",
   "execution_count": 10,
   "metadata": {},
   "outputs": [],
   "source": [
    "pers_fname = 'PersProp_Delaware_18_2018P2019.txt'"
   ]
  },
  {
   "cell_type": "code",
   "execution_count": 13,
   "metadata": {},
   "outputs": [],
   "source": [
    "real_fname = 'RealParcel_Delaware_18_2018P2019.txt'"
   ]
  },
  {
   "cell_type": "code",
   "execution_count": 12,
   "metadata": {},
   "outputs": [
    {
     "name": "stdout",
     "output_type": "stream",
     "text": [
      "'50 IAC 26 Data File Specifications.pdf'\n",
      " Header_PersProp_Delaware_18_2019P2019.txt\n",
      "\u001b[0m\u001b[01;34m'Joe Photos'\u001b[0m/\n",
      " PersProp_Delaware_18_2018P2019.txt\n",
      " \u001b[01;31mPersProp_Delaware_18_2018p2019.zip\u001b[0m\n",
      " RealParcel_Delaware_18_2018P2019.txt\n",
      " \u001b[01;31mrealparcel_Delaware_18_2018p2019.zip\u001b[0m\n",
      " Sunbeam_Microwave_Manual.pdf\n",
      " Untitled.ipynb\n",
      "\u001b[01;34m'Wedding Photos from Mark'\u001b[0m/\n"
     ]
    }
   ],
   "source": [
    "ls"
   ]
  },
  {
   "cell_type": "code",
   "execution_count": 5,
   "metadata": {},
   "outputs": [],
   "source": [
    "df = pd.read_fwf(fname, widths=widths)"
   ]
  },
  {
   "cell_type": "code",
   "execution_count": 6,
   "metadata": {},
   "outputs": [
    {
     "data": {
      "text/plain": [
       "(4139, 68)"
      ]
     },
     "execution_count": 6,
     "metadata": {},
     "output_type": "execute_result"
    }
   ],
   "source": [
    "df.shape"
   ]
  },
  {
   "cell_type": "code",
   "execution_count": 7,
   "metadata": {},
   "outputs": [
    {
     "data": {
      "text/plain": [
       "Index(['10517960', '1   1  B4101', 'S ME', 'EKE', 'R A', 'VE', 'Unnamed: 6',\n",
       "       'MUNCIE                        47302     GREAT AM',\n",
       "       'ERICA LEASING CORPORATION', 'Unnamed: 9', 'Unnamed: 10', 'Unnamed: 11',\n",
       "       'Unnamed: 12', 'Unnamed: 13', 'Unnamed: 14', 'Unnamed: 15',\n",
       "       '625 1ST STREET SE', 'CEDAR RAPIDS', 'IA', '52401', 'Unnamed: 20',\n",
       "       'USA103LO0', 'Unnamed: 22', 'Unnamed: 23', 'Unnamed: 24', 'Unnamed: 25',\n",
       "       'Unnamed: 26', 'Unnamed: 27', 'Unnamed: 28', 'Unnamed: 29',\n",
       "       'Unnamed: 30', 'Unnamed: 31', 'Unnamed: 32', '2', '6', '770',\n",
       "       'Unnamed: 36', 'Unnamed: 37', '5324200', 'Unnamed: 39', 'Unnamed: 40',\n",
       "       'Unnamed: 41', 'Unnamed: 42', 'Unnamed: 43', 'Unnamed: 44',\n",
       "       'Unnamed: 45', 'Unnamed: 46', 'Unnamed: 47', 'Unnamed: 48',\n",
       "       'Unnamed: 49', 'Unnamed: 50', 'Unnamed: 51', 'Unnamed: 52',\n",
       "       'Unnamed: 53', 'Unnamed: 54', 'Unnamed: 55', 'Unnamed: 56',\n",
       "       'Unnamed: 57', 'Unnamed: 58', 'Unnamed: 59', 'Unnamed: 60',\n",
       "       'Unnamed: 61', 'Unnamed: 62', 'Unnamed: 63', 'Unnamed: 64',\n",
       "       'Unnamed: 65', 'Unnamed: 66', 'Unnamed: 67'],\n",
       "      dtype='object')"
      ]
     },
     "execution_count": 7,
     "metadata": {},
     "output_type": "execute_result"
    }
   ],
   "source": [
    "df.columns"
   ]
  },
  {
   "cell_type": "code",
   "execution_count": 14,
   "metadata": {},
   "outputs": [],
   "source": [
    "real_df = pd.read_fwf(real_fname, widths=real_property_widths)"
   ]
  },
  {
   "cell_type": "code",
   "execution_count": 15,
   "metadata": {},
   "outputs": [
    {
     "data": {
      "text/plain": [
       "(59305, 68)"
      ]
     },
     "execution_count": 15,
     "metadata": {},
     "output_type": "execute_result"
    }
   ],
   "source": [
    "real_df.shape"
   ]
  },
  {
   "cell_type": "code",
   "execution_count": 30,
   "metadata": {},
   "outputs": [
    {
     "data": {
      "text/plain": [
       "1286"
      ]
     },
     "execution_count": 30,
     "metadata": {},
     "output_type": "execute_result"
    }
   ],
   "source": [
    "sum(real_property_widths)"
   ]
  },
  {
   "cell_type": "code",
   "execution_count": 2,
   "metadata": {},
   "outputs": [
    {
     "name": "stdout",
     "output_type": "stream",
     "text": [
      "0, \n",
      "1, \n",
      "2, \n",
      "3, \n",
      "4, \n",
      "5, \n",
      "6, \n",
      "7, \n",
      "8, \n",
      "9, \n",
      "10, \n",
      "11, \n",
      "12, \n",
      "13, \n",
      "14, \n",
      "15, \n",
      "16, \n",
      "17, \n",
      "18, \n",
      "19, \n",
      "20, \n",
      "21, \n",
      "22, \n",
      "23, \n",
      "24, \n",
      "25, \n",
      "26, \n",
      "27, \n",
      "28, \n",
      "29, \n",
      "30, \n",
      "31, \n",
      "32, \n",
      "33, \n",
      "34, \n",
      "35, \n",
      "36, \n",
      "37, \n",
      "38, \n",
      "39, \n",
      "40, \n",
      "41, \n",
      "42, \n",
      "43, \n",
      "44, \n",
      "45, \n",
      "46, \n",
      "47, \n",
      "48, \n",
      "49, \n",
      "50, \n",
      "51, \n",
      "52, \n",
      "53, \n",
      "54, \n",
      "55, \n",
      "56, \n",
      "57, \n",
      "58, \n",
      "59, \n",
      "60, \n",
      "61, \n",
      "62, \n",
      "63, \n",
      "64, \n",
      "65, \n",
      "66, \n",
      "67, \n"
     ]
    }
   ],
   "source": [
    "for i in range(68): print(str(i) + \", \")"
   ]
  }
 ],
 "metadata": {
  "kernelspec": {
   "display_name": "Python 3.8.5 64-bit ('property': conda)",
   "language": "python",
   "name": "python38564bitpropertycondacbdc5466867645eba5ab7fedc014cfce"
  },
  "language_info": {
   "codemirror_mode": {
    "name": "ipython",
    "version": 3
   },
   "file_extension": ".py",
   "mimetype": "text/x-python",
   "name": "python",
   "nbconvert_exporter": "python",
   "pygments_lexer": "ipython3",
   "version": "3.8.5-final"
  }
 },
 "nbformat": 4,
 "nbformat_minor": 4
}