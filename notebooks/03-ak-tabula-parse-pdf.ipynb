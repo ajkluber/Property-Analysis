{
 "cells": [
  {
   "cell_type": "markdown",
   "metadata": {},
   "source": [
    "# Parsing code list documentation\n",
    "\n"
   ]
  },
  {
   "cell_type": "code",
   "execution_count": 2,
   "metadata": {},
   "outputs": [],
   "source": [
    "import pathlib\n",
    "import os\n",
    "import pandas as pd"
   ]
  },
  {
   "cell_type": "code",
   "execution_count": 1,
   "metadata": {},
   "outputs": [],
   "source": [
    "from tabula import read_pdf"
   ]
  },
  {
   "cell_type": "code",
   "execution_count": 3,
   "metadata": {},
   "outputs": [
    {
     "name": "stderr",
     "output_type": "stream",
     "text": [
      "java version \"14.0.2\" 2020-07-14\n",
      "Java(TM) SE Runtime Environment (build 14.0.2+12-46)\n",
      "Java HotSpot(TM) 64-Bit Server VM (build 14.0.2+12-46, mixed mode, sharing)\n"
     ]
    }
   ],
   "source": [
    "!java -version"
   ]
  },
  {
   "cell_type": "code",
   "execution_count": 4,
   "metadata": {},
   "outputs": [],
   "source": [
    "pdf_path = pathlib.Path().cwd().parent.joinpath('references', 'Property Tax Management System Code List Manual 180614.pdf')"
   ]
  },
  {
   "cell_type": "code",
   "execution_count": 5,
   "metadata": {},
   "outputs": [
    {
     "name": "stderr",
     "output_type": "stream",
     "text": [
      "'pages' argument isn't specified.Will extract only from page 1 by default.\n",
      "Got stderr: Sep 13, 2020 7:13:51 PM org.apache.pdfbox.pdmodel.font.FileSystemFontProvider loadDiskCache\n",
      "WARNING: New fonts found, font cache will be re-built\n",
      "Sep 13, 2020 7:13:51 PM org.apache.pdfbox.pdmodel.font.FileSystemFontProvider <init>\n",
      "WARNING: Building on-disk font cache, this may take a while\n",
      "Sep 13, 2020 7:13:52 PM org.apache.pdfbox.pdmodel.font.FileSystemFontProvider <init>\n",
      "WARNING: Finished building on-disk font cache, found 426 fonts\n",
      "\n"
     ]
    }
   ],
   "source": [
    "dfs = read_pdf(pdf_path)"
   ]
  },
  {
   "cell_type": "code",
   "execution_count": null,
   "metadata": {},
   "outputs": [],
   "source": [
    "# code list 1 property types\n",
    "# 1-4, and first table 5\n",
    "\n",
    "# code list      pg      table      name\n",
    "# pg 5, second table\n",
    "#"
   ]
  },
  {
   "cell_type": "code",
   "execution_count": 6,
   "metadata": {},
   "outputs": [
    {
     "data": {
      "text/html": [
       "<div>\n",
       "<style scoped>\n",
       "    .dataframe tbody tr th:only-of-type {\n",
       "        vertical-align: middle;\n",
       "    }\n",
       "\n",
       "    .dataframe tbody tr th {\n",
       "        vertical-align: top;\n",
       "    }\n",
       "\n",
       "    .dataframe thead th {\n",
       "        text-align: right;\n",
       "    }\n",
       "</style>\n",
       "<table border=\"1\" class=\"dataframe\">\n",
       "  <thead>\n",
       "    <tr style=\"text-align: right;\">\n",
       "      <th></th>\n",
       "      <th>CODE</th>\n",
       "      <th>VALUE</th>\n",
       "    </tr>\n",
       "  </thead>\n",
       "  <tbody>\n",
       "    <tr>\n",
       "      <th>0</th>\n",
       "      <td>100</td>\n",
       "      <td>AGRICULTURAL - VACANT LAND</td>\n",
       "    </tr>\n",
       "    <tr>\n",
       "      <th>1</th>\n",
       "      <td>101</td>\n",
       "      <td>AGRICULTURAL - CASH GRAIN/GENERAL FARM</td>\n",
       "    </tr>\n",
       "    <tr>\n",
       "      <th>2</th>\n",
       "      <td>102</td>\n",
       "      <td>AGRICULTURAL - LIVESTOCK OTHER THAN DAIRY OR P...</td>\n",
       "    </tr>\n",
       "    <tr>\n",
       "      <th>3</th>\n",
       "      <td>103</td>\n",
       "      <td>AGRICULTURAL - DAIRY FARM</td>\n",
       "    </tr>\n",
       "    <tr>\n",
       "      <th>4</th>\n",
       "      <td>104</td>\n",
       "      <td>AGRICULTURAL - POULTRY FARM</td>\n",
       "    </tr>\n",
       "    <tr>\n",
       "      <th>5</th>\n",
       "      <td>105</td>\n",
       "      <td>AGRICULTURAL - FRUIT &amp; NUT FARM</td>\n",
       "    </tr>\n",
       "    <tr>\n",
       "      <th>6</th>\n",
       "      <td>106</td>\n",
       "      <td>AGRICULTURAL - VEGETABLE FARM</td>\n",
       "    </tr>\n",
       "    <tr>\n",
       "      <th>7</th>\n",
       "      <td>107</td>\n",
       "      <td>AGRICULTURAL - TOBACCO FARM</td>\n",
       "    </tr>\n",
       "    <tr>\n",
       "      <th>8</th>\n",
       "      <td>108</td>\n",
       "      <td>AGRICULTURAL - NURSERY</td>\n",
       "    </tr>\n",
       "    <tr>\n",
       "      <th>9</th>\n",
       "      <td>109</td>\n",
       "      <td>AGRICULTURAL - GREENHOUSES</td>\n",
       "    </tr>\n",
       "    <tr>\n",
       "      <th>10</th>\n",
       "      <td>110</td>\n",
       "      <td>AGRICULTURAL - HOG FARM</td>\n",
       "    </tr>\n",
       "    <tr>\n",
       "      <th>11</th>\n",
       "      <td>111</td>\n",
       "      <td>AGRICULTURAL - BEEF FARM</td>\n",
       "    </tr>\n",
       "    <tr>\n",
       "      <th>12</th>\n",
       "      <td>120</td>\n",
       "      <td>AGRICULTURAL - TIMBER</td>\n",
       "    </tr>\n",
       "    <tr>\n",
       "      <th>13</th>\n",
       "      <td>141</td>\n",
       "      <td>AGRICULTURAL LAND WITH MOBILE HOME</td>\n",
       "    </tr>\n",
       "    <tr>\n",
       "      <th>14</th>\n",
       "      <td>149</td>\n",
       "      <td>AGRICULTURAL LAND WITH PP MOBILE HOME</td>\n",
       "    </tr>\n",
       "    <tr>\n",
       "      <th>15</th>\n",
       "      <td>198</td>\n",
       "      <td>AGRICULTURAL BUILD LEASE LAND</td>\n",
       "    </tr>\n",
       "    <tr>\n",
       "      <th>16</th>\n",
       "      <td>199</td>\n",
       "      <td>AGRICULTURAL - OTHER AGRICULTURAL USE</td>\n",
       "    </tr>\n",
       "    <tr>\n",
       "      <th>17</th>\n",
       "      <td>200</td>\n",
       "      <td>MINERAL</td>\n",
       "    </tr>\n",
       "    <tr>\n",
       "      <th>18</th>\n",
       "      <td>300</td>\n",
       "      <td>INDUSTRIAL VACANT LAND</td>\n",
       "    </tr>\n",
       "    <tr>\n",
       "      <th>19</th>\n",
       "      <td>309</td>\n",
       "      <td>PARCEL CLASSIFIED AS VACANT BUT IS PART OF THE...</td>\n",
       "    </tr>\n",
       "    <tr>\n",
       "      <th>20</th>\n",
       "      <td>310</td>\n",
       "      <td>INDUSTRIAL FOOD &amp; DRINK</td>\n",
       "    </tr>\n",
       "    <tr>\n",
       "      <th>21</th>\n",
       "      <td>320</td>\n",
       "      <td>INDUSTRIAL FOUNDRIES &amp; HEAVY MANUFACTURING</td>\n",
       "    </tr>\n",
       "    <tr>\n",
       "      <th>22</th>\n",
       "      <td>330</td>\n",
       "      <td>INDUSTRIAL MEDIUM MANUFACTURING &amp; ASSEMBLY</td>\n",
       "    </tr>\n",
       "    <tr>\n",
       "      <th>23</th>\n",
       "      <td>340</td>\n",
       "      <td>INDUSTRIAL LIGHT MANUFACTURING &amp; ASSEMBLY</td>\n",
       "    </tr>\n",
       "    <tr>\n",
       "      <th>24</th>\n",
       "      <td>345</td>\n",
       "      <td>INDUSTRIAL OFFICE</td>\n",
       "    </tr>\n",
       "  </tbody>\n",
       "</table>\n",
       "</div>"
      ],
      "text/plain": [
       "    CODE                                              VALUE\n",
       "0    100                         AGRICULTURAL - VACANT LAND\n",
       "1    101             AGRICULTURAL - CASH GRAIN/GENERAL FARM\n",
       "2    102  AGRICULTURAL - LIVESTOCK OTHER THAN DAIRY OR P...\n",
       "3    103                          AGRICULTURAL - DAIRY FARM\n",
       "4    104                        AGRICULTURAL - POULTRY FARM\n",
       "5    105                    AGRICULTURAL - FRUIT & NUT FARM\n",
       "6    106                      AGRICULTURAL - VEGETABLE FARM\n",
       "7    107                        AGRICULTURAL - TOBACCO FARM\n",
       "8    108                             AGRICULTURAL - NURSERY\n",
       "9    109                         AGRICULTURAL - GREENHOUSES\n",
       "10   110                            AGRICULTURAL - HOG FARM\n",
       "11   111                           AGRICULTURAL - BEEF FARM\n",
       "12   120                              AGRICULTURAL - TIMBER\n",
       "13   141                 AGRICULTURAL LAND WITH MOBILE HOME\n",
       "14   149              AGRICULTURAL LAND WITH PP MOBILE HOME\n",
       "15   198                      AGRICULTURAL BUILD LEASE LAND\n",
       "16   199              AGRICULTURAL - OTHER AGRICULTURAL USE\n",
       "17   200                                            MINERAL\n",
       "18   300                             INDUSTRIAL VACANT LAND\n",
       "19   309  PARCEL CLASSIFIED AS VACANT BUT IS PART OF THE...\n",
       "20   310                            INDUSTRIAL FOOD & DRINK\n",
       "21   320         INDUSTRIAL FOUNDRIES & HEAVY MANUFACTURING\n",
       "22   330         INDUSTRIAL MEDIUM MANUFACTURING & ASSEMBLY\n",
       "23   340          INDUSTRIAL LIGHT MANUFACTURING & ASSEMBLY\n",
       "24   345                                  INDUSTRIAL OFFICE"
      ]
     },
     "execution_count": 6,
     "metadata": {},
     "output_type": "execute_result"
    }
   ],
   "source": [
    "dfs[0]"
   ]
  },
  {
   "cell_type": "code",
   "execution_count": 12,
   "metadata": {},
   "outputs": [
    {
     "data": {
      "text/plain": [
       "[    CODE                                              VALUE\n",
       " 0    821  STATE ASSESSED PROPERTY OWNED BY A LIGHT, HEAT...\n",
       " 1    825  LOCALLY ASSESSED PROPERTY OWNED BY A LIGHT, HE...\n",
       " 2    830  LOCALLY ASSESSED PROPERTY OWNED BY A PIPELINE ...\n",
       " 3    831  STATE ASSESSED PROPERTY OWNED BY A PIPELINE CO...\n",
       " 4    835  LOCALLY ASSESSED PROPERTY OWNED BY A PIPELINE ...\n",
       " 5    840  LOCALLY ASSESSED PROPERTY OWNED BY A RAILROAD ...\n",
       " 6    841  STATE ASSESSED OPERATING PROPERTY OWNED BY A R...\n",
       " 7    845  LOCALLY ASSESSED PROPERTY OWNED BY A RAILROAD ...\n",
       " 8    850  LOCALLY ASSESSED PROPERTY OWNED BY A SEWAGE CO...\n",
       " 9    851  STATE ASSESSED PROPERTY OWNED BY A SEWAGE COMP...\n",
       " 10   855  LOCALLY ASSESSED PROPERTY OWNED BY A SEWAGE CO...\n",
       " 11   860  LOCALLY ASSESSED PROPERTY OWNED BY A TELEPHONE...\n",
       " 12   861  STATE ASSESSED PROPERTY OWNED BY A TELEPHONE, ...\n",
       " 13   865  LOCALLY ASSESSED PROPERTY OWNED BY A TELEPHONE...\n",
       " 14   870  LOCALLY ASSESSED PROPERTY OWNED BY A WATER DIS...\n",
       " 15   871  STATE ASSESSED PROPERTY OWNED BY A WATER DISTR...\n",
       " 16   875  LOCALLY ASSESSED PROPERTY OWNED BY A WATER DIS...,\n",
       "   CODE     VALUE\n",
       " 0    A     PAVED\n",
       " 1    B   UNPAVED\n",
       " 2    C  PROPOSED\n",
       " 3    D  SIDEWALK\n",
       " 4    E     ALLEY,\n",
       "   CODE      VALUE\n",
       " 0    A  IMPROVING\n",
       " 1    B     STATIC\n",
       " 2    C  DECLINING\n",
       " 3    D   BLIGHTED]"
      ]
     },
     "execution_count": 12,
     "metadata": {},
     "output_type": "execute_result"
    }
   ],
   "source": [
    "read_pdf(pdf_path, pages=5)"
   ]
  }
 ],
 "metadata": {
  "kernelspec": {
   "display_name": "Python 3",
   "language": "python",
   "name": "python3"
  },
  "language_info": {
   "codemirror_mode": {
    "name": "ipython",
    "version": 3
   },
   "file_extension": ".py",
   "mimetype": "text/x-python",
   "name": "python",
   "nbconvert_exporter": "python",
   "pygments_lexer": "ipython3",
   "version": "3.8.5"
  }
 },
 "nbformat": 4,
 "nbformat_minor": 4
}
